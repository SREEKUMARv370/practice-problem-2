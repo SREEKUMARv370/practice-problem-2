{
  "nbformat": 4,
  "nbformat_minor": 0,
  "metadata": {
    "colab": {
      "provenance": []
    },
    "kernelspec": {
      "name": "python3",
      "display_name": "Python 3"
    },
    "language_info": {
      "name": "python"
    }
  },
  "cells": [
    {
      "cell_type": "markdown",
      "source": [
        "1.answer 1"
      ],
      "metadata": {
        "id": "vhuM5dUTJGQE"
      }
    },
    {
      "cell_type": "code",
      "execution_count": 1,
      "metadata": {
        "colab": {
          "base_uri": "https://localhost:8080/"
        },
        "id": "mrs00nSuI8NS",
        "outputId": "c986b4b1-9112-4acd-d8b2-3cf4809324f6"
      },
      "outputs": [
        {
          "output_type": "execute_result",
          "data": {
            "text/plain": [
              "45"
            ]
          },
          "metadata": {},
          "execution_count": 1
        }
      ],
      "source": [
        "list=[1,2,3,4,5,6,7,8,9]\n",
        "a=sum(list)\n",
        "a"
      ]
    },
    {
      "cell_type": "markdown",
      "source": [
        "2.answer 2"
      ],
      "metadata": {
        "id": "OoBwUhClJFJs"
      }
    },
    {
      "cell_type": "markdown",
      "source": [
        "a."
      ],
      "metadata": {
        "id": "vMms9UmZJWQ4"
      }
    },
    {
      "cell_type": "code",
      "source": [
        "st= input(\"Enter a sentence: \")\n",
        "length=len(st)\n",
        "print(\"Length of the sentence is \",length)"
      ],
      "metadata": {
        "colab": {
          "base_uri": "https://localhost:8080/"
        },
        "id": "WX2BalzvJXny",
        "outputId": "cac4f701-3f48-4b0c-8629-6e772f254906"
      },
      "execution_count": 2,
      "outputs": [
        {
          "output_type": "stream",
          "name": "stdout",
          "text": [
            "Enter a sentence: hello world\n",
            "Length of the sentence is  11\n"
          ]
        }
      ]
    },
    {
      "cell_type": "markdown",
      "source": [
        "b."
      ],
      "metadata": {
        "id": "bDK647ZzJgDf"
      }
    },
    {
      "cell_type": "code",
      "source": [
        "first_half=st[:length//2]\n",
        "print(\"First half of the sentence is \",first_half)"
      ],
      "metadata": {
        "colab": {
          "base_uri": "https://localhost:8080/"
        },
        "id": "BZYD0RbfJdCu",
        "outputId": "e152f243-669e-4780-9127-58cb070bc5dc"
      },
      "execution_count": 3,
      "outputs": [
        {
          "output_type": "stream",
          "name": "stdout",
          "text": [
            "First half of the sentence is  hello\n"
          ]
        }
      ]
    },
    {
      "cell_type": "markdown",
      "source": [
        "3.answer 3"
      ],
      "metadata": {
        "id": "LxEMm0PCJwzH"
      }
    },
    {
      "cell_type": "markdown",
      "source": [
        "Tuple is immutable. the tuple cannot be modified after it created. There for the qustion is wrong"
      ],
      "metadata": {
        "id": "7BnOU6-RJ-_L"
      }
    },
    {
      "cell_type": "markdown",
      "source": [
        "4.answer 4"
      ],
      "metadata": {
        "id": "c--H-mv1KAJl"
      }
    },
    {
      "cell_type": "markdown",
      "source": [
        "a."
      ],
      "metadata": {
        "id": "l5m-VOf9KKyI"
      }
    },
    {
      "cell_type": "code",
      "source": [
        "listA=[19,32,10,55,31,32,94,29,10,65,77,40,40]\n",
        "listA.remove(32)\n",
        "listA"
      ],
      "metadata": {
        "colab": {
          "base_uri": "https://localhost:8080/"
        },
        "id": "8gtnwkJyJn2R",
        "outputId": "263a6b3d-d5fc-42e0-acf8-c88ce684ee85"
      },
      "execution_count": 14,
      "outputs": [
        {
          "output_type": "execute_result",
          "data": {
            "text/plain": [
              "[19, 10, 55, 31, 32, 94, 29, 10, 65, 77, 40, 40]"
            ]
          },
          "metadata": {},
          "execution_count": 14
        }
      ]
    },
    {
      "cell_type": "markdown",
      "source": [
        "b."
      ],
      "metadata": {
        "id": "bMivD0ckKSHL"
      }
    },
    {
      "cell_type": "code",
      "source": [
        "listA.remove(listA[10])and(listA[11])\n",
        "listA"
      ],
      "metadata": {
        "colab": {
          "base_uri": "https://localhost:8080/"
        },
        "id": "wNcULsy3KQ6L",
        "outputId": "69d59def-e30a-4084-c6cd-4ff64bb9fc4b"
      },
      "execution_count": 16,
      "outputs": [
        {
          "output_type": "execute_result",
          "data": {
            "text/plain": [
              "[19, 10, 55, 31, 32, 94, 29, 10, 65, 77]"
            ]
          },
          "metadata": {},
          "execution_count": 16
        }
      ]
    },
    {
      "cell_type": "markdown",
      "source": [
        "c."
      ],
      "metadata": {
        "id": "RALOppJ5LuPN"
      }
    },
    {
      "cell_type": "code",
      "source": [
        "listA.remove(listA[5])\n",
        "listA"
      ],
      "metadata": {
        "colab": {
          "base_uri": "https://localhost:8080/"
        },
        "id": "sBNBgQ14Kh3a",
        "outputId": "5f78c331-6c36-4811-937b-2d1f6e872c52"
      },
      "execution_count": 17,
      "outputs": [
        {
          "output_type": "execute_result",
          "data": {
            "text/plain": [
              "[19, 10, 55, 31, 32, 29, 10, 65, 77]"
            ]
          },
          "metadata": {},
          "execution_count": 17
        }
      ]
    },
    {
      "cell_type": "markdown",
      "source": [
        "d."
      ],
      "metadata": {
        "id": "EKFGQQ17MFjH"
      }
    },
    {
      "cell_type": "code",
      "source": [
        "listA.append(300)\n",
        "listA"
      ],
      "metadata": {
        "colab": {
          "base_uri": "https://localhost:8080/"
        },
        "id": "82LuLz_xMC_3",
        "outputId": "afdd7689-27a0-4c5e-8547-3382f688230a"
      },
      "execution_count": 18,
      "outputs": [
        {
          "output_type": "execute_result",
          "data": {
            "text/plain": [
              "[19, 10, 55, 31, 32, 29, 10, 65, 77, 300]"
            ]
          },
          "metadata": {},
          "execution_count": 18
        }
      ]
    },
    {
      "cell_type": "markdown",
      "source": [
        "e."
      ],
      "metadata": {
        "id": "n6oJxPTbMPHM"
      }
    },
    {
      "cell_type": "code",
      "source": [
        "listA[2]=200\n",
        "listA"
      ],
      "metadata": {
        "colab": {
          "base_uri": "https://localhost:8080/"
        },
        "id": "s7cyQ65BMNxD",
        "outputId": "388013c2-c806-44e9-e693-07327009963e"
      },
      "execution_count": 19,
      "outputs": [
        {
          "output_type": "execute_result",
          "data": {
            "text/plain": [
              "[19, 10, 200, 31, 32, 29, 10, 65, 77, 300]"
            ]
          },
          "metadata": {},
          "execution_count": 19
        }
      ]
    },
    {
      "cell_type": "markdown",
      "source": [
        "f."
      ],
      "metadata": {
        "id": "31o1RqilMaHr"
      }
    },
    {
      "cell_type": "code",
      "source": [
        "len(listA)\n"
      ],
      "metadata": {
        "colab": {
          "base_uri": "https://localhost:8080/"
        },
        "id": "stbTPp9OMWI-",
        "outputId": "a3740e11-a16f-45a1-a229-e45556c09c79"
      },
      "execution_count": 24,
      "outputs": [
        {
          "output_type": "execute_result",
          "data": {
            "text/plain": [
              "10"
            ]
          },
          "metadata": {},
          "execution_count": 24
        }
      ]
    },
    {
      "cell_type": "code",
      "source": [
        "sum(listA)"
      ],
      "metadata": {
        "colab": {
          "base_uri": "https://localhost:8080/"
        },
        "id": "fiE5Qy80Mh-M",
        "outputId": "2cbb93f2-571f-4d48-ff33-c68b4dc430f8"
      },
      "execution_count": 27,
      "outputs": [
        {
          "output_type": "execute_result",
          "data": {
            "text/plain": [
              "773"
            ]
          },
          "metadata": {},
          "execution_count": 27
        }
      ]
    },
    {
      "cell_type": "markdown",
      "source": [
        "5.answer 5"
      ],
      "metadata": {
        "id": "ADltVmKDM11F"
      }
    },
    {
      "cell_type": "markdown",
      "source": [
        "a."
      ],
      "metadata": {
        "id": "BSdGCDvKNzn5"
      }
    },
    {
      "cell_type": "code",
      "source": [
        "str='The day has been long'\n",
        "str=str[:5]+str[6:]\n",
        "str"
      ],
      "metadata": {
        "colab": {
          "base_uri": "https://localhost:8080/",
          "height": 35
        },
        "id": "Rv6vdO2aMsdJ",
        "outputId": "6abbc6ea-49df-4ca9-b7ff-510ba8a8f54c"
      },
      "execution_count": 28,
      "outputs": [
        {
          "output_type": "execute_result",
          "data": {
            "text/plain": [
              "'The dy has been long'"
            ],
            "application/vnd.google.colaboratory.intrinsic+json": {
              "type": "string"
            }
          },
          "metadata": {},
          "execution_count": 28
        }
      ]
    },
    {
      "cell_type": "markdown",
      "source": [
        "b."
      ],
      "metadata": {
        "id": "CnjiGhv1N04R"
      }
    },
    {
      "cell_type": "code",
      "source": [
        "print((str+ ' ') * 4)"
      ],
      "metadata": {
        "colab": {
          "base_uri": "https://localhost:8080/"
        },
        "id": "XdN_B8N0NuMO",
        "outputId": "3d743fa8-510a-40eb-d886-96220bbb237f"
      },
      "execution_count": 29,
      "outputs": [
        {
          "output_type": "stream",
          "name": "stdout",
          "text": [
            "The dy has been long The dy has been long The dy has been long The dy has been long \n"
          ]
        }
      ]
    },
    {
      "cell_type": "markdown",
      "source": [
        "c."
      ],
      "metadata": {
        "id": "kri8wi5SOBz3"
      }
    },
    {
      "cell_type": "code",
      "source": [
        "print(str +'\\n'+ str + '\\n' + str)"
      ],
      "metadata": {
        "colab": {
          "base_uri": "https://localhost:8080/"
        },
        "id": "DutQ6P_bOC0f",
        "outputId": "5b169861-1498-46b3-dae4-f045f1386408"
      },
      "execution_count": 30,
      "outputs": [
        {
          "output_type": "stream",
          "name": "stdout",
          "text": [
            "The dy has been long\n",
            "The dy has been long\n",
            "The dy has been long\n"
          ]
        }
      ]
    },
    {
      "cell_type": "markdown",
      "source": [
        "d."
      ],
      "metadata": {
        "id": "_RFa1uzsOH46"
      }
    },
    {
      "cell_type": "code",
      "source": [
        "str = str[:7] + 'A' + str[8:]\n",
        "str"
      ],
      "metadata": {
        "colab": {
          "base_uri": "https://localhost:8080/",
          "height": 35
        },
        "id": "wbju1w8_N_Ru",
        "outputId": "4072e359-3ee6-4528-9396-6ec5d3aa7869"
      },
      "execution_count": 31,
      "outputs": [
        {
          "output_type": "execute_result",
          "data": {
            "text/plain": [
              "'The dy Aas been long'"
            ],
            "application/vnd.google.colaboratory.intrinsic+json": {
              "type": "string"
            }
          },
          "metadata": {},
          "execution_count": 31
        }
      ]
    },
    {
      "cell_type": "markdown",
      "source": [
        "e."
      ],
      "metadata": {
        "id": "d5Wa3Q7BORL2"
      }
    },
    {
      "cell_type": "code",
      "source": [
        "str[4:15]"
      ],
      "metadata": {
        "colab": {
          "base_uri": "https://localhost:8080/",
          "height": 35
        },
        "id": "UEyi8lfqOQcV",
        "outputId": "7c9db9e2-84fc-4e28-a465-bb612bd53778"
      },
      "execution_count": 32,
      "outputs": [
        {
          "output_type": "execute_result",
          "data": {
            "text/plain": [
              "'dy Aas been'"
            ],
            "application/vnd.google.colaboratory.intrinsic+json": {
              "type": "string"
            }
          },
          "metadata": {},
          "execution_count": 32
        }
      ]
    },
    {
      "cell_type": "markdown",
      "source": [
        "f."
      ],
      "metadata": {
        "id": "q5bUewepOer0"
      }
    },
    {
      "cell_type": "code",
      "source": [
        "print(str)"
      ],
      "metadata": {
        "colab": {
          "base_uri": "https://localhost:8080/"
        },
        "id": "yJmSAjbsOYR4",
        "outputId": "3ea8e687-785b-47f4-8869-3eb9f1f3ffad"
      },
      "execution_count": 36,
      "outputs": [
        {
          "output_type": "stream",
          "name": "stdout",
          "text": [
            "The dy Aas been long\n"
          ]
        }
      ]
    },
    {
      "cell_type": "code",
      "source": [
        "len(str)"
      ],
      "metadata": {
        "colab": {
          "base_uri": "https://localhost:8080/"
        },
        "id": "ArBUaFAfOjw3",
        "outputId": "22dae571-1af0-468b-cb3d-b19f531c980c"
      },
      "execution_count": 37,
      "outputs": [
        {
          "output_type": "execute_result",
          "data": {
            "text/plain": [
              "20"
            ]
          },
          "metadata": {},
          "execution_count": 37
        }
      ]
    }
  ]
}